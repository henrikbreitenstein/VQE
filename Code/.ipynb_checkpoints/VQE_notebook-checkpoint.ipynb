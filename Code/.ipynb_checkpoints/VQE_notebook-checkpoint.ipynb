{
 "cells": [
  {
   "cell_type": "code",
   "execution_count": null,
   "id": "9bdb0cb5",
   "metadata": {
    "scrolled": true
   },
   "outputs": [
    {
     "name": "stdout",
     "output_type": "stream",
     "text": [
      "0 1.3588958866987744\n",
      "1 1.0161846714545013\n",
      "2 0.36897116265637675\n",
      "3 -0.09879004738064778\n",
      "4 -0.9856267650712649\n",
      "5 -1.6554736879062182\n",
      "6 -2.3317400005154116\n",
      "7 -2.9056129516756712\n",
      "8 -2.9354966234447324\n",
      "9 -3.130006313124604\n",
      "10 -3.211182841292627\n",
      "11 -3.336728248977678\n",
      "12 -3.3988820733031795\n",
      "13 -3.415725439959361\n",
      "14 -3.5135915104580686\n",
      "15 -3.6101216104266096\n",
      "16 -3.500333856599814\n",
      "17 -3.531278243770427\n",
      "18 -3.7104978860696507\n",
      "19 -3.663487680925316\n",
      "20 -3.5154927834974847\n",
      "21 -3.651179516809847\n"
     ]
    }
   ],
   "source": [
    "import VQE\n",
    "import FindPauli\n",
    "import numpy as np\n",
    "import qiskit as qk\n",
    "import sympy as sm\n",
    "import matplotlib.pyplot as plt\n",
    "import utils\n",
    "\n",
    "variables = [1, np.sqrt(6), 3, 0, 0] #[epsilon, \\sqrt(6)V, 3V, 3W, 4W]\n",
    "H = FindPauli.string_list(variables)\n",
    "solution = VQE.solver(H, 3)\n",
    "\n",
    "print(solution)"
   ]
  },
  {
   "cell_type": "code",
   "execution_count": 2,
   "id": "b205f485",
   "metadata": {},
   "outputs": [
    {
     "data": {
      "text/latex": [
       "$\\displaystyle \\begin{bmatrix}4.0 & 0 & 0 & 0 & 0 & 0 & 0 & 0 \\\\ 0 & 2.0 & 0 & 0 & 0 & 0 & 0 & 0 \\\\ 0 & 0 & -4.0 & 0 & 0 & 0 & 0 & 0 \\\\ 0 & 0 & 0 & 2.0e-64 & 0 & 0 & 0 & 0 \\\\ 0 & 0 & 0 & 0 & 4.0 & 0 & 0 & 0 \\\\ 0 & 0 & 0 & 0 & 0 & 0 & 0 & 0 \\\\ 0 & 0 & 0 & 0 & 0 & 0 & 0 & 0 \\\\ 0 & 0 & 0 & 0 & 0 & 0 & 0 & 0\\end{bmatrix}$"
      ],
      "text/plain": [
       "<IPython.core.display.Math object>"
      ]
     },
     "metadata": {},
     "output_type": "display_data"
    },
    {
     "data": {
      "text/latex": [
       "$\\displaystyle \\begin{bmatrix}0 & 0 & -0.75 & -0.61 & -0.25 & 0 & 0 & 0 \\\\ 0 & 1.0 & 0 & 0 & 0 & 0 & 0 & 0 \\\\ 0 & 0 & 0.61 & -0.50 & -0.61 & 0 & 0 & 0 \\\\ -1.0 & 0 & 0 & 0 & 0 & 0 & 0 & 0 \\\\ 0 & 0 & -0.25 & 0.61 & -0.75 & 0 & 0 & 0 \\\\ 0 & 0 & 0 & 0 & 0 & 1.0 & 0 & 0 \\\\ 0 & 0 & 0 & 0 & 0 & 0 & 1.0 & 0 \\\\ 0 & 0 & 0 & 0 & 0 & 0 & 0 & 1.0\\end{bmatrix}$"
      ],
      "text/plain": [
       "<IPython.core.display.Math object>"
      ]
     },
     "metadata": {},
     "output_type": "display_data"
    }
   ],
   "source": [
    "from IPython.display import display, Math\n",
    "#H for J=2\n",
    "A1 = np.zeros((8,8));A1[0,0]=-2;A1[1,1]=-1;A1[3,3]=1;A1[4,4]=2\n",
    "A2 = np.zeros((8,8));A2[0,2]=1;A2[2,0]=1;A2[2,4]=1;A2[4,2]=1\n",
    "A3 = np.zeros((8,8));A3[1,1]=1;A3[3,3]=1\n",
    "A4 = np.zeros((8,8));A4[1,3]=1;A4[3,1]=1\n",
    "A5 = np.zeros((8,8));A5[2,2]=1\n",
    "\n",
    "LIST = [A1,A2,A3,A4,A5]\n",
    "    \n",
    "H = np.zeros((8,8))\n",
    "\n",
    "for i in range(5):\n",
    "    H  += variables[i]*LIST[i]\n",
    "    \n",
    "P, D = sm.Matrix(H).diagonalize()\n",
    "display(Math(utils.matrix_to_latex(np.array(D.evalf(2)))))\n",
    "display(Math(utils.matrix_to_latex(np.array(P.evalf(2)))))\n"
   ]
  },
  {
   "cell_type": "code",
   "execution_count": null,
   "id": "aa1c9db6",
   "metadata": {},
   "outputs": [],
   "source": [
    "\n",
    "#sorting eigenvalues from lecture notes\n",
    "def eigen(A):\n",
    "    eigenValues, eigenVectors = LA.eig(A)\n",
    "    idx = np.argsort(eigenValues)\n",
    "    eigenValues = eigenValues[idx]\n",
    "    eigenVectors = eigenVectors[:,idx]\n",
    "    return (eigenValues, eigenVectors) \n",
    "\n",
    "#want to do this with diffrent variales epsilon, V and W\n",
    "n = 20\n",
    "Eeps = np.zeros(n)\n",
    "Ev = np.zeros(n)\n",
    "Ew = np.zeros(n)\n",
    "Eeps_true = np.zeros(n)\n",
    "Ev_true = np.zeros(n)\n",
    "Ew_true = np.zeros(n)\n",
    "eps = 1\n",
    "V = 1\n",
    "W = 0\n",
    "for i, eps in enumerate(np.linspace(0, 2, n)):\n",
    "    variables = [eps, np.sqrt(6)*V, 3*V, 3*W, 4*W]\n",
    "    H = FindPauli.string_list(varibles)\n",
    "    lowest = VQE.solver(H, 3)\n",
    "    H_true = np.zeros((8,8))\n",
    "    \n",
    "    for i in range(5):\n",
    "        H_true  += variables[i]*LIST[i]\n",
    "        \n",
    "    lowest_true = eigen(H_true)[0][0]\n",
    "    \n",
    "    Eeps[i] = lowest\n",
    "    Eeps_true[i] = lowest_true\n",
    "    \n",
    "for i, V in enumerate(np.linspace(0, 2, n)):\n",
    "    variables = [eps, np.sqrt(6)*V, 3*V, 3*W, 4*W]\n",
    "    H = FindPauli.string_list(varibles)\n",
    "    lowest = VQE.solver(H, 3)\n",
    "    H_true = np.zeros((8,8))\n",
    "    \n",
    "    for i in range(5):\n",
    "        H_true  += variables[i]*LIST[i]\n",
    "        \n",
    "    lowest_true = eigen(H_true)[0][0]\n",
    "    \n",
    "    Eeps[i] = lowest\n",
    "    Eeps_true[i] = lowest_true\n",
    "    \n",
    "for i, W in enumerate(np.linspace(0, 2, n)):\n",
    "    variables = [eps, np.sqrt(6)*V, 3*V, 3*W, 4*W]\n",
    "    H = FindPauli.string_list(varibles)\n",
    "    lowest = VQE.solver(H, 3)\n",
    "    H_true = np.zeros((8,8))\n",
    "    \n",
    "    for i in range(5):\n",
    "        H_true  += variables[i]*LIST[i]\n",
    "        \n",
    "    lowest_true = eigen(H_true)[0][0]\n",
    "    \n",
    "    Eeps[i] = lowest\n",
    "    Eeps_true[i] = lowest_true\n",
    "\n",
    "    "
   ]
  }
 ],
 "metadata": {
  "kernelspec": {
   "display_name": "Python 3 (ipykernel)",
   "language": "python",
   "name": "python3"
  },
  "language_info": {
   "codemirror_mode": {
    "name": "ipython",
    "version": 3
   },
   "file_extension": ".py",
   "mimetype": "text/x-python",
   "name": "python",
   "nbconvert_exporter": "python",
   "pygments_lexer": "ipython3",
   "version": "3.10.6"
  }
 },
 "nbformat": 4,
 "nbformat_minor": 5
}
