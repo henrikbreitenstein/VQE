{
 "cells": [
  {
   "cell_type": "code",
   "execution_count": null,
   "id": "d8543e46",
   "metadata": {},
   "outputs": [],
   "source": [
    "import numpy as np\n",
    "import qiskit as qk\n",
    "\n",
    "#rotation for the different axes.\n",
    "\n",
    "rotation = ['rx', 'ry', 'rz']\n",
    "\n",
    "#\n",
    "\n",
    "#create the ansatz: a number of qubits that fits the size of the\n",
    "#strings in our Pauli matrix form Hamiltonian.\n",
    "\n",
    "def ansatz(theta, rotation_list, size=2):\n",
    "    qreg = qk.QuantumRegister(size)\n",
    "    creg = qk.ClassicalRegister(size)\n",
    "    circuit = qk.QuantumCircuit(qreg, creg)\n",
    "    for i, item in enumerate(rotation_list):\n",
    "        exec(f'circuit.{item}(qreg[i])')\n",
    "    return circuit\n",
    "\n",
    "def solver(string_list):\n",
    "    output = 1e8\n",
    "    \n",
    "        "
   ]
  }
 ],
 "metadata": {
  "kernelspec": {
   "display_name": "Python 3 (ipykernel)",
   "language": "python",
   "name": "python3"
  },
  "language_info": {
   "codemirror_mode": {
    "name": "ipython",
    "version": 3
   },
   "file_extension": ".py",
   "mimetype": "text/x-python",
   "name": "python",
   "nbconvert_exporter": "python",
   "pygments_lexer": "ipython3",
   "version": "3.10.6"
  }
 },
 "nbformat": 4,
 "nbformat_minor": 5
}
