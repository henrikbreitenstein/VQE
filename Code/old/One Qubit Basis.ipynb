{
 "cells": [
  {
   "cell_type": "code",
   "execution_count": 1,
   "id": "07e8cf8e",
   "metadata": {},
   "outputs": [],
   "source": [
    "import numpy as np\n",
    "import one_qubit\n",
    "import gates\n",
    "import utils\n",
    "from IPython.display import display, Markdown, Latex"
   ]
  },
  {
   "cell_type": "code",
   "execution_count": 2,
   "id": "318e08a8",
   "metadata": {},
   "outputs": [
    {
     "data": {
      "text/latex": [
       "$$\\left |0\\right > = \\begin{bmatrix}1 \\\\ 0\\end{bmatrix}$$"
      ],
      "text/plain": [
       "<IPython.core.display.Latex object>"
      ]
     },
     "metadata": {},
     "output_type": "display_data"
    },
    {
     "data": {
      "text/latex": [
       "$$\\left |1\\right > = \\begin{bmatrix}0 \\\\ 1\\end{bmatrix}$$"
      ],
      "text/plain": [
       "<IPython.core.display.Latex object>"
      ]
     },
     "metadata": {},
     "output_type": "display_data"
    }
   ],
   "source": [
    "#Our one qubit basis\n",
    "basis = []\n",
    "for state in [0, 1]:\n",
    "    basis.append(one_qubit.one_qbit(state))\n",
    "    display(Latex('$$' + utils.latex_bra_ket([state]) + ' = ' + utils.matrix_to_latex(one_qubit.one_qbit(state)) + '$$'))"
   ]
  },
  {
   "cell_type": "code",
   "execution_count": 3,
   "id": "f875f367",
   "metadata": {},
   "outputs": [
    {
     "data": {
      "text/latex": [
       "$$\\sigma_x = \\begin{bmatrix}0 & 1 \\\\ 1 & 0\\end{bmatrix}$$"
      ],
      "text/plain": [
       "<IPython.core.display.Latex object>"
      ]
     },
     "metadata": {},
     "output_type": "display_data"
    },
    {
     "data": {
      "text/latex": [
       "$$\\sigma_y = \\begin{bmatrix}0j & (-0-1j) \\\\ 1j & 0j\\end{bmatrix}$$"
      ],
      "text/plain": [
       "<IPython.core.display.Latex object>"
      ]
     },
     "metadata": {},
     "output_type": "display_data"
    },
    {
     "data": {
      "text/latex": [
       "$$\\sigma_z = \\begin{bmatrix}1 & 0 \\\\ 0 & -1\\end{bmatrix}$$"
      ],
      "text/plain": [
       "<IPython.core.display.Latex object>"
      ]
     },
     "metadata": {},
     "output_type": "display_data"
    },
    {
     "data": {
      "text/latex": [
       "$$H = \\begin{bmatrix}0.7071067811865475 & 0.7071067811865475 \\\\ 0.7071067811865475 & -0.7071067811865475\\end{bmatrix}$$"
      ],
      "text/plain": [
       "<IPython.core.display.Latex object>"
      ]
     },
     "metadata": {},
     "output_type": "display_data"
    },
    {
     "data": {
      "text/latex": [
       "$$S = \\begin{bmatrix}(1+0j) & 0j \\\\ 0j & 1j\\end{bmatrix}$$"
      ],
      "text/plain": [
       "<IPython.core.display.Latex object>"
      ]
     },
     "metadata": {},
     "output_type": "display_data"
    }
   ],
   "source": [
    "#Our single qubit gates we will test\n",
    "for name, gate in zip(gates.gates_name_list, gates.gates_list):\n",
    "    display(Latex('$$' + name + ' = ' + utils.matrix_to_latex(gate) + '$$'))"
   ]
  },
  {
   "cell_type": "code",
   "execution_count": 4,
   "id": "efbf34ca",
   "metadata": {},
   "outputs": [
    {
     "data": {
      "text/latex": [
       "$$\\sigma_x\\left |0\\right > = \\begin{bmatrix}0 \\\\ 1\\end{bmatrix}$$"
      ],
      "text/plain": [
       "<IPython.core.display.Latex object>"
      ]
     },
     "metadata": {},
     "output_type": "display_data"
    },
    {
     "data": {
      "text/latex": [
       "$$\\sigma_x\\left |1\\right > = \\begin{bmatrix}1 \\\\ 0\\end{bmatrix}$$"
      ],
      "text/plain": [
       "<IPython.core.display.Latex object>"
      ]
     },
     "metadata": {},
     "output_type": "display_data"
    },
    {
     "data": {
      "text/latex": [
       "$$\\sigma_y\\left |0\\right > = \\begin{bmatrix}0j \\\\ 1j\\end{bmatrix}$$"
      ],
      "text/plain": [
       "<IPython.core.display.Latex object>"
      ]
     },
     "metadata": {},
     "output_type": "display_data"
    },
    {
     "data": {
      "text/latex": [
       "$$\\sigma_y\\left |1\\right > = \\begin{bmatrix}-1j \\\\ 0j\\end{bmatrix}$$"
      ],
      "text/plain": [
       "<IPython.core.display.Latex object>"
      ]
     },
     "metadata": {},
     "output_type": "display_data"
    },
    {
     "data": {
      "text/latex": [
       "$$\\sigma_z\\left |0\\right > = \\begin{bmatrix}1 \\\\ 0\\end{bmatrix}$$"
      ],
      "text/plain": [
       "<IPython.core.display.Latex object>"
      ]
     },
     "metadata": {},
     "output_type": "display_data"
    },
    {
     "data": {
      "text/latex": [
       "$$\\sigma_z\\left |1\\right > = \\begin{bmatrix}0 \\\\ -1\\end{bmatrix}$$"
      ],
      "text/plain": [
       "<IPython.core.display.Latex object>"
      ]
     },
     "metadata": {},
     "output_type": "display_data"
    },
    {
     "data": {
      "text/latex": [
       "$$H\\left |0\\right > = \\begin{bmatrix}0.7071067811865475 \\\\ 0.7071067811865475\\end{bmatrix}$$"
      ],
      "text/plain": [
       "<IPython.core.display.Latex object>"
      ]
     },
     "metadata": {},
     "output_type": "display_data"
    },
    {
     "data": {
      "text/latex": [
       "$$H\\left |1\\right > = \\begin{bmatrix}0.7071067811865475 \\\\ -0.7071067811865475\\end{bmatrix}$$"
      ],
      "text/plain": [
       "<IPython.core.display.Latex object>"
      ]
     },
     "metadata": {},
     "output_type": "display_data"
    },
    {
     "data": {
      "text/latex": [
       "$$S\\left |0\\right > = \\begin{bmatrix}(1+0j) \\\\ 0j\\end{bmatrix}$$"
      ],
      "text/plain": [
       "<IPython.core.display.Latex object>"
      ]
     },
     "metadata": {},
     "output_type": "display_data"
    },
    {
     "data": {
      "text/latex": [
       "$$S\\left |1\\right > = \\begin{bmatrix}0j \\\\ 1j\\end{bmatrix}$$"
      ],
      "text/plain": [
       "<IPython.core.display.Latex object>"
      ]
     },
     "metadata": {},
     "output_type": "display_data"
    }
   ],
   "source": [
    "#Now we study the actions on the basis states\n",
    "for name, gate in zip(gates.gates_name_list, gates.gates_list):\n",
    "    for i, state in enumerate(basis):\n",
    "        output = gate@state\n",
    "        display(Latex('$$' + name + utils.latex_bra_ket([i]) + ' = ' + utils.matrix_to_latex(output) + '$$'))"
   ]
  },
  {
   "cell_type": "code",
   "execution_count": 10,
   "id": "37e8ad42",
   "metadata": {},
   "outputs": [],
   "source": [
    "#with Qiskit\n",
    "import qiskit as qk"
   ]
  },
  {
   "cell_type": "code",
   "execution_count": 16,
   "id": "55d6a8f5",
   "metadata": {},
   "outputs": [],
   "source": [
    "n_qubits = 1\n",
    "n_cbits = 1"
   ]
  },
  {
   "cell_type": "code",
   "execution_count": 32,
   "id": "71e13458",
   "metadata": {
    "scrolled": true
   },
   "outputs": [
    {
     "name": "stdout",
     "output_type": "stream",
     "text": [
      "x |0> {'1': 1000}\n",
      "x |1> {'0': 1000}\n",
      "y |0> {'1': 1000}\n",
      "y |1> {'0': 1000}\n",
      "z |0> {'0': 1000}\n",
      "z |1> {'1': 1000}\n",
      "h |0> {'1': 512, '0': 488}\n",
      "h |1> {'1': 508, '0': 492}\n",
      "s |0> {'0': 1000}\n",
      "s |1> {'1': 1000}\n"
     ]
    }
   ],
   "source": [
    "for gate in ['x', 'y', 'z', 'h', 's']:\n",
    "    for init in basis:\n",
    "        qreg = qk.QuantumRegister(n_qubits)\n",
    "        creg = qk.ClassicalRegister(n_cbits)\n",
    "        circuit = qk.QuantumCircuit(qreg, creg)\n",
    "        circuit.initialize(init)\n",
    "        exec(f'circuit.{gate}' + '(qreg[0])')\n",
    "        circuit.measure(qreg[0], creg[0])\n",
    "        backend = qk.Aer.get_backend('qasm_simulator')\n",
    "        job = backend.run(circuit, shots=1000) #shots = number of times to get average of many measurements.\n",
    "        counts = job.result().get_counts()\n",
    "        print(gate, '|' + str(np.where(basis==init)[0][0]) + '>', counts)"
   ]
  },
  {
   "cell_type": "markdown",
   "id": "d19357dd",
   "metadata": {},
   "source": [
    "Which is very similar to our own measurement approximations. Next we will look at one of the Bell states:\n",
    "\n",
    "$$ \\left | \\Phi^+ \\right > = \\frac{1}{\\sqrt{2}}\\left (\\left | 00 \\right > + \\left | 11 \\right > \\right ) $$\n",
    "\n",
    "$$ \\left | \\Phi^+ \\right > = \\frac{1}{\\sqrt{2}} \\left [ 1, 0, 0, 1 \\right ] $$"
   ]
  },
  {
   "cell_type": "code",
   "execution_count": 12,
   "id": "9fffc6e3",
   "metadata": {},
   "outputs": [
    {
     "name": "stdout",
     "output_type": "stream",
     "text": [
      "{'00': 260, '01': 230, '11': 254, '10': 256}\n"
     ]
    }
   ],
   "source": [
    "n_qubits = 2\n",
    "n_cbits = 2\n",
    "\n",
    "qreg = qk.QuantumRegister(n_qubits)\n",
    "creg = qk.ClassicalRegister(n_cbits)\n",
    "circuit = qk.QuantumCircuit(qreg, creg)\n",
    "circuit.initialize([1/np.sqrt(2), 0, 0, 1/np.sqrt(2)])\n",
    "circuit.h(qreg[0])\n",
    "circuit.cx(qreg[1], qreg[0])\n",
    "circuit.measure(qreg[0], creg[0])\n",
    "circuit.measure(qreg[1], creg[1])\n",
    "circuit.draw()\n",
    "backend = qk.Aer.get_backend('qasm_simulator')\n",
    "job = backend.run(circuit, shots=1000) #shots = number of times to get average of many measurements.\n",
    "counts = job.result().get_counts()\n",
    "print(counts)"
   ]
  }
 ],
 "metadata": {
  "kernelspec": {
   "display_name": "Python 3 (ipykernel)",
   "language": "python",
   "name": "python3"
  },
  "language_info": {
   "codemirror_mode": {
    "name": "ipython",
    "version": 3
   },
   "file_extension": ".py",
   "mimetype": "text/x-python",
   "name": "python",
   "nbconvert_exporter": "python",
   "pygments_lexer": "ipython3",
   "version": "3.10.6"
  }
 },
 "nbformat": 4,
 "nbformat_minor": 5
}
